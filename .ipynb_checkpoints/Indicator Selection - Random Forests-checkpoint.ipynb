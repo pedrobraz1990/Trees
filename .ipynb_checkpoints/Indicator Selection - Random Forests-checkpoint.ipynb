{
 "cells": [
  {
   "cell_type": "code",
   "execution_count": null,
   "metadata": {
    "collapsed": false
   },
   "outputs": [],
   "source": [
    "library(randomForest) "
   ]
  },
  {
   "cell_type": "markdown",
   "metadata": {},
   "source": [
    "* 1 - Export data from Matlab\n",
    "* 2 - Import data from Matlab in R\n",
    "* 3 - Training data\n",
    "* 4 - Testing data"
   ]
  },
  {
   "cell_type": "markdown",
   "metadata": {},
   "source": [
    "# Indicator Selection - Random Forest\n",
    "\n",
    "We propose a new methodology for selecting indicator in the Principia's and Constancia's 2012 models.\n",
    "\n",
    "This approach is based on Random Forests, instead fo t-testing the returns.\n",
    "\n"
   ]
  },
  {
   "cell_type": "markdown",
   "metadata": {},
   "source": [
    "## Aproach\n",
    "\n",
    "Firstly that is a conceptual difference in the approach. We propose, based on Axel's suggestion, to not focus on returns but on winners and loosers (stocks pertaining to the top and bottom returns groups, respectively).\n",
    "\n",
    "Lastly, the method is switched from t-tesing the returns series to random forests to classify the stocks in winners, loosers or neutral."
   ]
  },
  {
   "cell_type": "markdown",
   "metadata": {},
   "source": [
    "## I - Export data from MatLab\n",
    "\n",
    "It has been done in the ``.\\Modelo2012\\exportToTree.m``"
   ]
  },
  {
   "cell_type": "markdown",
   "metadata": {},
   "source": [
    "## II - Import data in R\n",
    "\n"
   ]
  },
  {
   "cell_type": "markdown",
   "metadata": {},
   "source": [
    "### Import CSVs"
   ]
  },
  {
   "cell_type": "code",
   "execution_count": null,
   "metadata": {
    "collapsed": false
   },
   "outputs": [],
   "source": [
    "dir <- \"J:\\\\Principia\\\\Modelos\\\\Producao_MATLAB\\\\Modelo2012\\\\TreeData\\\\\"\n",
    "indNamesCsv <- read.csv(paste(dir,\"indNames.csv\",sep=\"\"))"
   ]
  },
  {
   "cell_type": "code",
   "execution_count": null,
   "metadata": {
    "collapsed": false
   },
   "outputs": [],
   "source": [
    "Indicators <- list()\n",
    "for (indName in names(indNamesCsv)){\n",
    "    print(indName)\n",
    "    fileName <- paste(dir,indName,sep=\"\")\n",
    "    Indicators <- list(Indicators, read.csv(fileName,na.strings=\"NaN\",stringsAsFactors = FALSE))\n",
    "    #Indicators[[indName]] <- read.csv(fileName,na.strings=\"NaN\",stringsAsFactors = FALSE)\n",
    "}\n"
   ]
  },
  {
   "cell_type": "code",
   "execution_count": null,
   "metadata": {
    "collapsed": false
   },
   "outputs": [],
   "source": [
    "length(Indicators)"
   ]
  },
  {
   "cell_type": "code",
   "execution_count": null,
   "metadata": {
    "collapsed": false
   },
   "outputs": [],
   "source": []
  },
  {
   "cell_type": "code",
   "execution_count": null,
   "metadata": {
    "collapsed": true
   },
   "outputs": [],
   "source": []
  }
 ],
 "metadata": {
  "kernelspec": {
   "display_name": "R",
   "language": "R",
   "name": "ir"
  },
  "language_info": {
   "codemirror_mode": "r",
   "file_extension": ".r",
   "mimetype": "text/x-r-source",
   "name": "R",
   "pygments_lexer": "r",
   "version": "3.2.4"
  }
 },
 "nbformat": 4,
 "nbformat_minor": 0
}
