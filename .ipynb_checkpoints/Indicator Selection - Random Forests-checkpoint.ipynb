{
 "cells": [
  {
   "cell_type": "code",
   "execution_count": 1,
   "metadata": {
    "collapsed": false
   },
   "outputs": [
    {
     "name": "stderr",
     "output_type": "stream",
     "text": [
      "Warning message:\n",
      ": package 'randomForest' was built under R version 3.2.5randomForest 4.6-12\n",
      "Type rfNews() to see new features/changes/bug fixes.\n"
     ]
    }
   ],
   "source": [
    "library(randomForest) "
   ]
  },
  {
   "cell_type": "markdown",
   "metadata": {},
   "source": [
    "* 1 - Export data from Matlab\n",
    "* 2 - Import data from Matlab in R\n",
    "* 3 - Training data\n",
    "* 4 - Testing data\n",
    "* 5 - Compute Hit ratio for random forest and for zScoreFinal\n"
   ]
  },
  {
   "cell_type": "markdown",
   "metadata": {},
   "source": [
    "# Indicator Selection - Random Forest\n",
    "\n",
    "We propose a new methodology for selecting indicator in the Principia's and Constancia's 2012 models.\n",
    "\n",
    "This approach is based on Random Forests, instead fo t-testing the returns.\n",
    "\n"
   ]
  },
  {
   "cell_type": "markdown",
   "metadata": {},
   "source": [
    "## Aproach\n",
    "\n",
    "Firstly that is a conceptual difference in the approach. We propose, based on Axel's suggestion, to not focus on returns but on winners and loosers (stocks pertaining to the top and bottom returns groups, respectively).\n",
    "\n",
    "Lastly, the method is switched from t-tesing the returns series to random forests to classify the stocks in winners, loosers or neutral."
   ]
  },
  {
   "cell_type": "markdown",
   "metadata": {},
   "source": [
    "## I - Export data from MatLab\n",
    "\n",
    "It has been done in the ``.\\Modelo2012\\exportToTree.m``"
   ]
  },
  {
   "cell_type": "markdown",
   "metadata": {},
   "source": [
    "## II - Import data in R\n",
    "\n"
   ]
  },
  {
   "cell_type": "markdown",
   "metadata": {},
   "source": [
    "### Import CSVs"
   ]
  },
  {
   "cell_type": "code",
   "execution_count": 2,
   "metadata": {
    "collapsed": false
   },
   "outputs": [],
   "source": [
    "dir <- \"J:\\\\Principia\\\\Modelos\\\\Producao_MATLAB\\\\Modelo2012\\\\TreeData\\\\\"\n",
    "indNamesCsv <- read.csv(paste(dir,\"indNames.csv\",sep=\"\"))"
   ]
  },
  {
   "cell_type": "code",
   "execution_count": 5,
   "metadata": {
    "collapsed": true
   },
   "outputs": [],
   "source": [
    "Stocks <- read.csv(paste(dir,\"Stocks.csv\",sep=\"\"),na.strings=\"NaN\",stringsAsFactors = FALSE)\n",
    "Classes <- read.csv(paste(dir,\"classes.csv\",sep=\"\"),na.strings=\"NaN\",stringsAsFactors = FALSE)"
   ]
  },
  {
   "cell_type": "code",
   "execution_count": 3,
   "metadata": {
    "collapsed": false
   },
   "outputs": [
    {
     "name": "stdout",
     "output_type": "stream",
     "text": [
      "[1] \"AccRet_20.csv\"\n",
      "[1] \"AccRet_5.csv\"\n",
      "[1] \"Accrual.csv\"\n",
      "[1] \"CapexSales.csv\"\n",
      "[1] \"Constancia_CapRate.csv\"\n",
      "[1] \"Constancia_EVAtivoOperacional.csv\"\n",
      "[1] \"Constancia_EVSales.csv\"\n",
      "[1] \"Constancia_LogMarketCapital.csv\"\n",
      "[1] \"Constancia_MargemEBIT.csv\"\n",
      "[1] \"Constancia_PrecoBookValue.csv\"\n",
      "[1] \"Constancia_PrecoLucro.csv\"\n",
      "[1] \"Constancia_ROE.csv\"\n",
      "[1] \"Constancia_ROIC.csv\"\n",
      "[1] \"Constancia_TendenciaMargemEBIT.csv\"\n",
      "[1] \"Constancia_TendenciaMargemROE.csv\"\n",
      "[1] \"CrescimentoHistoricoEBIT.csv\"\n",
      "[1] \"CrescimentoHistoricoEPS.csv\"\n",
      "[1] \"CrescimentoHistoricoSAL.csv\"\n",
      "[1] \"DividendPayout1Ano.csv\"\n",
      "[1] \"DividendYield.csv\"\n",
      "[1] \"MACD.csv\"\n",
      "[1] \"Mom10_40wk.csv\"\n",
      "[1] \"Mom5_30wk.csv\"\n",
      "[1] \"MoneyFlowVolume5.csv\"\n",
      "[1] \"RSI_10.csv\"\n",
      "[1] \"RSI_14.csv\"\n",
      "[1] \"Slope_20.csv\"\n",
      "[1] \"Slope_50.csv\"\n",
      "[1] \"TendenciaCapexAtivoTotal.csv\"\n",
      "[1] \"TendenciaFixedChargeCover.csv\"\n",
      "[1] \"TendenciaIA.csv\"\n",
      "[1] \"TendenciaLeverage.csv\"\n",
      "[1] \"TendenciaMargemCFO.csv\"\n",
      "[1] \"TendenciaMargemEstoques.csv\"\n",
      "[1] \"TendenciaMargemLucro.csv\"\n",
      "[1] \"TendenciaMargemSGACOGSSales.csv\"\n",
      "[1] \"TendenciaMargemTurn.csv\"\n"
     ]
    }
   ],
   "source": [
    "Indicators <- list()\n",
    "for (indName in names(indNamesCsv)){\n",
    "    print(indName)\n",
    "    fileName <- paste(dir,indName,sep=\"\")\n",
    "    Indicators[[indName]] <- read.csv(fileName,na.strings=\"NaN\",stringsAsFactors = FALSE)\n",
    "    #Indicators <- list(Indicators, read.csv(fileName,na.strings=\"NaN\",stringsAsFactors = FALSE))\n",
    "    #Indicators[[indName]] <- read.csv(fileName,na.strings=\"NaN\",stringsAsFactors = FALSE)\n",
    "}\n",
    "\n"
   ]
  },
  {
   "cell_type": "markdown",
   "metadata": {
    "collapsed": false
   },
   "source": [
    "## III - Synchronise Data"
   ]
  },
  {
   "cell_type": "markdown",
   "metadata": {},
   "source": [
    "Procedure to synchronize data:\n",
    "\n",
    "* 1 - Find union of never-present data both in sample and test data\n",
    "* 2 - copy last values for missing values"
   ]
  },
  {
   "cell_type": "code",
   "execution_count": null,
   "metadata": {
    "collapsed": false
   },
   "outputs": [],
   "source": []
  },
  {
   "cell_type": "code",
   "execution_count": null,
   "metadata": {
    "collapsed": true
   },
   "outputs": [],
   "source": []
  }
 ],
 "metadata": {
  "kernelspec": {
   "display_name": "R",
   "language": "R",
   "name": "ir"
  },
  "language_info": {
   "codemirror_mode": "r",
   "file_extension": ".r",
   "mimetype": "text/x-r-source",
   "name": "R",
   "pygments_lexer": "r",
   "version": "3.2.4"
  }
 },
 "nbformat": 4,
 "nbformat_minor": 0
}
